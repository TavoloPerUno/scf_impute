{
 "cells": [
  {
   "cell_type": "code",
   "execution_count": 17,
   "metadata": {},
   "outputs": [
    {
     "name": "stdout",
     "output_type": "stream",
     "text": [
      "The optimization problem to be solved is:\n",
      "Min -1.1 x[1] - x[2]\n",
      "Subject to\n",
      " 1.6666666666666667 x[1] + x[2] + x[3] = 5\n",
      " 1.1428571428571428 x[1] + x[2] + x[4] = 4\n",
      " 0.42857142857142855 x[1] + x[2] + x[5] = 3\n",
      " x[i] ≥ 0 ∀ i ∈ {1,2,3,4,5}\n",
      " \n",
      "The rank of the matrix A: 3\n",
      "The number of linear restrictions: 3\n",
      "The number of variables: 5\n",
      "Number of basic solutions n!/m!(n-m)!: 10.0\n"
     ]
    }
   ],
   "source": [
    "using JuMP\n",
    "using GLPKMathProgInterface\n",
    "\n",
    "c = [-1.1;  -1; 0; 0; 0]\n",
    "A = [5/3 1  1 0 0;\n",
    "     8/7 1  0 1 0;\n",
    "     3/7 1  0 0 1]\n",
    "b = [5; 4; 3]\n",
    "\n",
    "m, n = size(A)\n",
    "x_lb = [0;0;0;0;0];\n",
    "\n",
    "newModel = Model(solver = GLPKSolverMIP())\n",
    "@variable(newModel, x[i=1:n] >=x_lb[i])\n",
    "for i=1:m\n",
    "    @constraint(newModel, sum(A[i,j]*x[j] for j=1:n) == b[i])\n",
    "end\n",
    "    @objective(newModel, Min, sum(c[j]*x[j] for j=1:n))\n",
    "println(\"The optimization problem to be solved is:\")\n",
    "print(newModel)\n",
    "println(\" \")\n",
    "println(\"The rank of the matrix A: \",rank(A))\n",
    "println(\"The number of linear restrictions: \", m)\n",
    "println(\"The number of variables: \",n)\n",
    "println(\"Number of basic solutions n!/m!(n-m)!: \",factorial(n)/(factorial(m)*factorial(n-m)))"
   ]
  },
  {
   "cell_type": "code",
   "execution_count": 18,
   "metadata": {},
   "outputs": [
    {
     "data": {
      "text/html": [
       "<table class=\"data-frame\"><thead><tr><th></th><th>comb_1</th><th>comb_2</th><th>comb_3</th><th>x_B_1</th><th>x_B_2</th><th>x_B_3</th><th>z</th></tr></thead><tbody><tr><th>1</th><td>NaN</td><td>NaN</td><td>NaN</td><td>NaN</td><td>NaN</td><td>NaN</td><td>NaN</td></tr></tbody></table>"
      ],
      "text/plain": [
       "1×7 DataFrames.DataFrame\n",
       "│ Row │ comb_1 │ comb_2 │ comb_3 │ x_B_1 │ x_B_2 │ x_B_3 │ z   │\n",
       "├─────┼────────┼────────┼────────┼───────┼───────┼───────┼─────┤\n",
       "│ 1   │ NaN    │ NaN    │ NaN    │ NaN   │ NaN   │ NaN   │ NaN │"
      ]
     },
     "execution_count": 18,
     "metadata": {},
     "output_type": "execute_result"
    }
   ],
   "source": [
    "combs = collect(combinations(1:n, m))\n",
    "resual = DataFrame(comb_1=NaN,comb_2=NaN,comb_3=NaN,x_B_1=NaN,x_B_2=NaN,x_B_3=NaN,z=NaN)"
   ]
  },
  {
   "cell_type": "code",
   "execution_count": 19,
   "metadata": {},
   "outputs": [
    {
     "data": {
      "text/plain": [
       "10-element Array{Array{Int64,1},1}:\n",
       " [1, 2, 3]\n",
       " [1, 2, 4]\n",
       " [1, 2, 5]\n",
       " [1, 3, 4]\n",
       " [1, 3, 5]\n",
       " [1, 4, 5]\n",
       " [2, 3, 4]\n",
       " [2, 3, 5]\n",
       " [2, 4, 5]\n",
       " [3, 4, 5]"
      ]
     },
     "execution_count": 19,
     "metadata": {},
     "output_type": "execute_result"
    }
   ],
   "source": [
    "combs"
   ]
  },
  {
   "cell_type": "code",
   "execution_count": null,
   "metadata": {
    "collapsed": true
   },
   "outputs": [],
   "source": [
    "Acombs[1,0]"
   ]
  },
  {
   "cell_type": "code",
   "execution_count": 15,
   "metadata": {},
   "outputs": [
    {
     "ename": "LoadError",
     "evalue": "\u001b[91mBase.LinAlg.SingularException(2)\u001b[39m",
     "output_type": "error",
     "traceback": [
      "\u001b[91mBase.LinAlg.SingularException(2)\u001b[39m",
      "",
      "Stacktrace:",
      " [1] \u001b[1minv!\u001b[22m\u001b[22m at \u001b[1m./linalg/lu.jl:308\u001b[22m\u001b[22m [inlined]",
      " [2] \u001b[1minv\u001b[22m\u001b[22m\u001b[1m(\u001b[22m\u001b[22m::Base.LinAlg.LU{Float64,Array{Float64,2}}\u001b[1m)\u001b[22m\u001b[22m at \u001b[1m./linalg/lu.jl:310\u001b[22m\u001b[22m",
      " [3] \u001b[1minv\u001b[22m\u001b[22m\u001b[1m(\u001b[22m\u001b[22m::Array{Float64,2}\u001b[1m)\u001b[22m\u001b[22m at \u001b[1m./linalg/dense.jl:659\u001b[22m\u001b[22m",
      " [4] \u001b[1mmacro expansion\u001b[22m\u001b[22m at \u001b[1m./In[15]:10\u001b[22m\u001b[22m [inlined]",
      " [5] \u001b[1manonymous\u001b[22m\u001b[22m at \u001b[1m./<missing>:?\u001b[22m\u001b[22m",
      " [6] \u001b[1minclude_string\u001b[22m\u001b[22m\u001b[1m(\u001b[22m\u001b[22m::String, ::String\u001b[1m)\u001b[22m\u001b[22m at \u001b[1m./loading.jl:522\u001b[22m\u001b[22m"
     ]
    }
   ],
   "source": [
    "using DataFrames, Combinatorics\n",
    "\n",
    "combs = collect(combinations(1:n, m))\n",
    "resual = DataFrame(comb_1=NaN,comb_2=NaN,comb_3=NaN,x_B_1=NaN,x_B_2=NaN,x_B_3=NaN,z=NaN)\n",
    "\n",
    "for i in 1:length(combs)\n",
    "    comb = combs[i,]\n",
    "    B = A[:, comb]\n",
    "    c_B = c[comb]\n",
    "    x_B = inv(B)*b\n",
    "\n",
    "    if minimum(x_B)>0\n",
    "        z = dot(c_B, x_B)\n",
    "    else \n",
    "        z = Inf\n",
    "    end\n",
    "    if i==1\n",
    "        resual = DataFrame(comb_1=comb[1],comb_2=comb[2],comb_3=comb[3],x_B_1=x_B[1],x_B_2=x_B[2],x_B_3=x_B[3],z=z)\n",
    "    else\n",
    "        push!(resual, @data([comb[1],comb[2],comb[3],x_B[1],x_B[2],x_B[3],z]))\n",
    "    end\n",
    "end\n",
    "sort(resual,cols=:z,rev=false)"
   ]
  },
  {
   "cell_type": "code",
   "execution_count": null,
   "metadata": {
    "collapsed": true
   },
   "outputs": [],
   "source": []
  }
 ],
 "metadata": {
  "kernelspec": {
   "display_name": "Julia 0.6.2",
   "language": "julia",
   "name": "julia-0.6"
  },
  "language_info": {
   "file_extension": ".jl",
   "mimetype": "application/julia",
   "name": "julia",
   "version": "0.6.2"
  }
 },
 "nbformat": 4,
 "nbformat_minor": 2
}
